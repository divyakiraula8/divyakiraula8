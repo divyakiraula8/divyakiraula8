{
 "cells": [
  {
   "cell_type": "code",
   "execution_count": 87,
   "id": "1d94ff19",
   "metadata": {},
   "outputs": [
    {
     "name": "stdout",
     "output_type": "stream",
     "text": [
      "0 1 2 3 4 5 6 7 8 9 \n",
      "Number at each iteration 1 \t cumulative sum of numbers 1\n",
      "Number at each iteration 2 \t cumulative sum of numbers 3\n",
      "Number at each iteration 3 \t cumulative sum of numbers 6\n",
      "Number at each iteration 4 \t cumulative sum of numbers 10\n",
      "Number at each iteration 5 \t cumulative sum of numbers 15\n",
      "Number at each iteration 6 \t cumulative sum of numbers 21\n",
      "Number at each iteration 7 \t cumulative sum of numbers 28\n",
      "Number at each iteration 8 \t cumulative sum of numbers 36\n",
      "Number at each iteration 9 \t cumulative sum of numbers 45\n",
      "Number at each iteration 10 \t cumulative sum of numbers 55\n"
     ]
    }
   ],
   "source": [
    "#Task1\n",
    "for i in range(10):\n",
    "    print(i,end=\" \")\n",
    "print()\n",
    "sum=0\n",
    "for i in range(1,11):\n",
    "    sum=sum+i\n",
    "    print(\"Number at each iteration\",i, \"\\t\",\"cumulative sum of numbers\",sum)\n"
   ]
  },
  {
   "cell_type": "code",
   "execution_count": 88,
   "id": "21e48824",
   "metadata": {},
   "outputs": [
    {
     "name": "stdout",
     "output_type": "stream",
     "text": [
      "A   \n",
      "B   B   \n",
      "C   C   C   \n",
      "D   D   D   D   \n",
      "E   E   E   E   E   \n"
     ]
    }
   ],
   "source": [
    "#Task2\n",
    "for i in range (65,70):\n",
    "  \n",
    "    for j in range(65,i+1):\n",
    "        print(chr(i),\" \",end=\" \")\n",
    "    print()"
   ]
  },
  {
   "cell_type": "code",
   "execution_count": 2,
   "id": "7414a256",
   "metadata": {},
   "outputs": [
    {
     "name": "stdout",
     "output_type": "stream",
     "text": [
      "     Name age height  address cell number\n",
      "0   Divya  21    165  Lucknow  8146781282\n",
      "1  Bhavya  12    153     pune  9919637938\n"
     ]
    }
   ],
   "source": [
    "#Task3\n",
    "import pandas as pd\n",
    "my_dict={'Name':['Divya','Bhavya'],'age':['21','12'],'height':['165','153'],'address':['Lucknow','pune'],'cell number':['8146781282','9919637938']}\n",
    "df=pd.DataFrame(my_dict)\n",
    "print(df)"
   ]
  },
  {
   "cell_type": "code",
   "execution_count": 5,
   "id": "fe53ec9c",
   "metadata": {},
   "outputs": [
    {
     "name": "stdout",
     "output_type": "stream",
     "text": [
      "Enter number : 2345667\n",
      "2\n",
      "3\n",
      "4\n",
      "5\n",
      "6\n",
      "6\n",
      "7\n"
     ]
    }
   ],
   "source": [
    "#Task4\n",
    "number= int(input(\"Enter number : \"))\n",
    "for i in str(number):\n",
    "    print(i)"
   ]
  },
  {
   "cell_type": "code",
   "execution_count": 6,
   "id": "89de6a84",
   "metadata": {},
   "outputs": [
    {
     "name": "stdout",
     "output_type": "stream",
     "text": [
      "['a', 'b', 'c', 'd']\n",
      "['z', 'a', 'b', 'c', 'd']\n"
     ]
    }
   ],
   "source": [
    "#Task5\n",
    "letters = [\"a\", \"b\", \"c\", \"d\"]\n",
    "print(letters)\n",
    "letters.insert(0,\"z\")\n",
    "print(letters)"
   ]
  },
  {
   "cell_type": "code",
   "execution_count": 7,
   "id": "00fbca7a",
   "metadata": {},
   "outputs": [
    {
     "name": "stdout",
     "output_type": "stream",
     "text": [
      "1\n",
      "3\n",
      "5\n",
      "7\n",
      "9\n"
     ]
    }
   ],
   "source": [
    "#Task6\n",
    "for i in range(0,10):\n",
    "    if (i%2!=0):\n",
    "        print(i)\n"
   ]
  },
  {
   "cell_type": "code",
   "execution_count": 8,
   "id": "7b048ad3",
   "metadata": {},
   "outputs": [
    {
     "name": "stdout",
     "output_type": "stream",
     "text": [
      "H\n",
      "e\n",
      "l\n",
      "l\n",
      "o\n",
      ",\n",
      " \n",
      "A\n",
      "l\n",
      "l\n",
      "!\n"
     ]
    }
   ],
   "source": [
    "#task7\n",
    "stringname = \"Hello, All!\"\n",
    "for k in stringname:\n",
    "    print(k)\n"
   ]
  },
  {
   "cell_type": "code",
   "execution_count": 9,
   "id": "67e48e41",
   "metadata": {},
   "outputs": [
    {
     "name": "stdout",
     "output_type": "stream",
     "text": [
      "2\n",
      "4\n",
      "6\n",
      "8\n",
      "10\n"
     ]
    }
   ],
   "source": [
    "#Task8\n",
    "My_list= [2,4,6,8,10,13,12,14,16,18]\n",
    "for j in My_list:\n",
    "    if j%2 != 0:\n",
    "        break\n",
    "    else:\n",
    "        print(j)"
   ]
  },
  {
   "cell_type": "code",
   "execution_count": 12,
   "id": "80e71a58",
   "metadata": {},
   "outputs": [
    {
     "name": "stdout",
     "output_type": "stream",
     "text": [
      "1 2\n",
      "3 4\n",
      "5 6\n",
      "7 8\n"
     ]
    }
   ],
   "source": [
    "#Task9\n",
    "my_list1=[1,3,5,7]\n",
    "my_list2=[2,4,6,8]\n",
    "for i in range (len(my_list1)):\n",
    "    print(my_list1[i],my_list2[i])"
   ]
  },
  {
   "cell_type": "code",
   "execution_count": 95,
   "id": "99c24890",
   "metadata": {},
   "outputs": [
    {
     "name": "stdout",
     "output_type": "stream",
     "text": [
      "first no=15\n",
      "second no=30\n",
      "product is: 450\n"
     ]
    }
   ],
   "source": [
    "#Task10\n",
    "def multiply(a,b):\n",
    "    a=int(input(\"first no=\"))\n",
    "    b=int(input(\"second no=\"))\n",
    "  \n",
    "    return a*b;\n",
    "print(\"product is:\",multiply(a,b))"
   ]
  },
  {
   "cell_type": "code",
   "execution_count": 36,
   "id": "e3c25744",
   "metadata": {},
   "outputs": [
    {
     "name": "stdout",
     "output_type": "stream",
     "text": [
      "How many Entries= 6\n",
      "Fibonacci sequence:\n",
      "1\n",
      "2\n",
      "3\n",
      "5\n",
      "8\n",
      "13\n"
     ]
    }
   ],
   "source": [
    "#Task11\n",
    "noofvalues = int(input(\"How many Entries= \"))\n",
    "no1=1\n",
    "no2 =2\n",
    "count = 0\n",
    "if (noofvalues <= 0):\n",
    "    \n",
    "    print(\"Please enter a valid number\")\n",
    "else:\n",
    "    print(\"Fibonacci sequence:\")\n",
    "    \n",
    "    while (count < noofvalues):\n",
    "        print(no1)\n",
    "        sum = no1 + no2\n",
    "       \n",
    "        no1 = no2\n",
    "        no2 = sum\n",
    "        count += 1"
   ]
  },
  {
   "cell_type": "code",
   "execution_count": 60,
   "id": "82bdf82f",
   "metadata": {},
   "outputs": [
    {
     "data": {
      "text/html": [
       "<div>\n",
       "<style scoped>\n",
       "    .dataframe tbody tr th:only-of-type {\n",
       "        vertical-align: middle;\n",
       "    }\n",
       "\n",
       "    .dataframe tbody tr th {\n",
       "        vertical-align: top;\n",
       "    }\n",
       "\n",
       "    .dataframe thead th {\n",
       "        text-align: right;\n",
       "    }\n",
       "</style>\n",
       "<table border=\"1\" class=\"dataframe\">\n",
       "  <thead>\n",
       "    <tr style=\"text-align: right;\">\n",
       "      <th></th>\n",
       "      <th>age</th>\n",
       "      <th>sex</th>\n",
       "      <th>bmi</th>\n",
       "      <th>children</th>\n",
       "      <th>smoker</th>\n",
       "      <th>region</th>\n",
       "      <th>charges</th>\n",
       "    </tr>\n",
       "  </thead>\n",
       "  <tbody>\n",
       "    <tr>\n",
       "      <th>1333</th>\n",
       "      <td>50</td>\n",
       "      <td>male</td>\n",
       "      <td>30.97</td>\n",
       "      <td>3</td>\n",
       "      <td>no</td>\n",
       "      <td>northwest</td>\n",
       "      <td>10600.5483</td>\n",
       "    </tr>\n",
       "    <tr>\n",
       "      <th>1334</th>\n",
       "      <td>18</td>\n",
       "      <td>female</td>\n",
       "      <td>31.92</td>\n",
       "      <td>0</td>\n",
       "      <td>no</td>\n",
       "      <td>northeast</td>\n",
       "      <td>2205.9808</td>\n",
       "    </tr>\n",
       "    <tr>\n",
       "      <th>1335</th>\n",
       "      <td>18</td>\n",
       "      <td>female</td>\n",
       "      <td>36.85</td>\n",
       "      <td>0</td>\n",
       "      <td>no</td>\n",
       "      <td>southeast</td>\n",
       "      <td>1629.8335</td>\n",
       "    </tr>\n",
       "    <tr>\n",
       "      <th>1336</th>\n",
       "      <td>21</td>\n",
       "      <td>female</td>\n",
       "      <td>25.80</td>\n",
       "      <td>0</td>\n",
       "      <td>no</td>\n",
       "      <td>southwest</td>\n",
       "      <td>2007.9450</td>\n",
       "    </tr>\n",
       "    <tr>\n",
       "      <th>1337</th>\n",
       "      <td>61</td>\n",
       "      <td>female</td>\n",
       "      <td>29.07</td>\n",
       "      <td>0</td>\n",
       "      <td>yes</td>\n",
       "      <td>northwest</td>\n",
       "      <td>29141.3603</td>\n",
       "    </tr>\n",
       "  </tbody>\n",
       "</table>\n",
       "</div>"
      ],
      "text/plain": [
       "      age     sex    bmi  children smoker     region     charges\n",
       "1333   50    male  30.97         3     no  northwest  10600.5483\n",
       "1334   18  female  31.92         0     no  northeast   2205.9808\n",
       "1335   18  female  36.85         0     no  southeast   1629.8335\n",
       "1336   21  female  25.80         0     no  southwest   2007.9450\n",
       "1337   61  female  29.07         0    yes  northwest  29141.3603"
      ]
     },
     "execution_count": 60,
     "metadata": {},
     "output_type": "execute_result"
    }
   ],
   "source": [
    "#Task12\n",
    "import pandas \n",
    "df = pd.read_csv(\"insurance.csv\") \n",
    "df\n",
    "df.tail()"
   ]
  },
  {
   "cell_type": "code",
   "execution_count": 56,
   "id": "92ae83eb",
   "metadata": {},
   "outputs": [
    {
     "name": "stdout",
     "output_type": "stream",
     "text": [
      "[1, 2, 3, 4, 5, 6, 7, 8, 9]\n"
     ]
    }
   ],
   "source": [
    "#Task13\n",
    "#Removing duplicates using sets\n",
    "my_list = [1,1,2,2,4,4,5,6,7,8,8,9,9,3,3]\n",
    "my_list=list(set(my_list))\n",
    "print(my_list)"
   ]
  },
  {
   "cell_type": "code",
   "execution_count": 67,
   "id": "cd42b7ce",
   "metadata": {},
   "outputs": [
    {
     "data": {
      "text/html": [
       "<div>\n",
       "<style scoped>\n",
       "    .dataframe tbody tr th:only-of-type {\n",
       "        vertical-align: middle;\n",
       "    }\n",
       "\n",
       "    .dataframe tbody tr th {\n",
       "        vertical-align: top;\n",
       "    }\n",
       "\n",
       "    .dataframe thead th {\n",
       "        text-align: right;\n",
       "    }\n",
       "</style>\n",
       "<table border=\"1\" class=\"dataframe\">\n",
       "  <thead>\n",
       "    <tr style=\"text-align: right;\">\n",
       "      <th></th>\n",
       "      <th>name</th>\n",
       "      <th>shirt_color</th>\n",
       "      <th>laptops</th>\n",
       "      <th>has_a_dog</th>\n",
       "      <th>items_on_desk</th>\n",
       "    </tr>\n",
       "  </thead>\n",
       "  <tbody>\n",
       "    <tr>\n",
       "      <th>0</th>\n",
       "      <td>Michele</td>\n",
       "      <td>blue</td>\n",
       "      <td>[{'brand': 'Lenovo', 'operating_system': 'Ubun...</td>\n",
       "      <td>false</td>\n",
       "      <td>[mug, pen, monitor]</td>\n",
       "    </tr>\n",
       "  </tbody>\n",
       "</table>\n",
       "</div>"
      ],
      "text/plain": [
       "      name shirt_color                                            laptops  \\\n",
       "0  Michele        blue  [{'brand': 'Lenovo', 'operating_system': 'Ubun...   \n",
       "\n",
       "  has_a_dog        items_on_desk  \n",
       "0     false  [mug, pen, monitor]  "
      ]
     },
     "execution_count": 67,
     "metadata": {},
     "output_type": "execute_result"
    }
   ],
   "source": [
    "#Task14\n",
    "import json\n",
    "import pandas\n",
    "with open('text.json') as sampledata:\n",
    "    data=json.load(sampledata)\n",
    "df=pandas.DataFrame(data)\n",
    "df"
   ]
  },
  {
   "cell_type": "code",
   "execution_count": 96,
   "id": "c89c0b16",
   "metadata": {},
   "outputs": [
    {
     "name": "stdout",
     "output_type": "stream",
     "text": [
      "[1, 2, 3, 5, 8, 13]\n"
     ]
    }
   ],
   "source": [
    "#Task15\n",
    "#removal of duplicates\n",
    "def removal(a,b):\n",
    "    set1 = set(a)\n",
    "    set2 = set(b)\n",
    "    return(list(set1.intersection(set2)))\n",
    "a = [1,1,2,3,5,8,13,21,34,55,89]\n",
    "b = [1,2,3,4,5,6,7,8,9,10,11,12,13]\n",
    "print(removal(a,b))"
   ]
  },
  {
   "cell_type": "code",
   "execution_count": 97,
   "id": "d68ea1f4",
   "metadata": {},
   "outputs": [
    {
     "name": "stdout",
     "output_type": "stream",
     "text": [
      "Reversed String:\n",
      "Mike is Name My\n"
     ]
    }
   ],
   "source": [
    "#Task16\n",
    "#Reverse the string\n",
    "str= \"My Name is Mike\"\n",
    "words = str.split(' ')\n",
    "string =[]\n",
    "for word in words:\n",
    "    string.insert(0, word)\n",
    " \n",
    "print(\"Reversed String:\")\n",
    "print(\" \".join(string))"
   ]
  },
  {
   "cell_type": "code",
   "execution_count": 100,
   "id": "c8cc4ec6",
   "metadata": {},
   "outputs": [
    {
     "name": "stdout",
     "output_type": "stream",
     "text": [
      "[10, 50]\n"
     ]
    }
   ],
   "source": [
    "#Task17\n",
    "#first and last elements of the given list\n",
    "def Mylist(list1):\n",
    "    return [list1[0],list1[-1]]\n",
    "\n",
    "Given_List= [10,20,30,40,50]\n",
    "print(Mylist(Given_List))"
   ]
  },
  {
   "cell_type": "code",
   "execution_count": 79,
   "id": "0c8bdf97",
   "metadata": {},
   "outputs": [
    {
     "name": "stdout",
     "output_type": "stream",
     "text": [
      "Enter any number  : 47\n",
      "Prime Number \n"
     ]
    }
   ],
   "source": [
    "#Task18\n",
    "def prime(num):\n",
    "    flag = 1\n",
    "    for i in range(2, num//2):\n",
    "        if num % i == 0:\n",
    "            flag = 0\n",
    "\n",
    "    return flag\n",
    "\n",
    "if __name__ == \"__main__\":\n",
    "    num = int(input('Enter any number  : '))\n",
    "    result = prime(num)\n",
    "    if (result):\n",
    "        print(\"Prime Number \" )\n",
    "    else:\n",
    "        print(\"not a prime number \")\n",
    "                "
   ]
  },
  {
   "cell_type": "code",
   "execution_count": 77,
   "id": "64e968dd",
   "metadata": {},
   "outputs": [
    {
     "name": "stdout",
     "output_type": "stream",
     "text": [
      "True\n"
     ]
    }
   ],
   "source": [
    "#Task19\n",
    "mylist = []\n",
    "num = int(input(\"Enter number of elements : \"))\n",
    " \n",
    "for i in range(0, num):\n",
    "    elements = int(input())\n",
    " \n",
    "    mylist.append(elements) \n",
    "     \n",
    "print(mylist)\n",
    "num=int(input(\"Enter a number to see whether it exists in the list or not=\"))\n",
    "if(num in mylist):\n",
    "    print(bool(1));\n",
    "else:\n",
    "    print(bool(0));"
   ]
  },
  {
   "cell_type": "code",
   "execution_count": 103,
   "id": "44a4cdce",
   "metadata": {},
   "outputs": [
    {
     "name": "stdout",
     "output_type": "stream",
     "text": [
      "Aid to Families With Children to Begin, in Milestone for U.S. Safety Net\n",
      "Biden meets with Merrick Garland, Eric Adams and other leaders to promote his plan to reduce gun violence.\n",
      "Monthly payments to families with children will begin, but the program’s future is in doubt.\n",
      "F.D.A. Will Attach Warning of Rare Nerve Syndrome to J.&J. Vaccine\n",
      "The Rationing of a Last-Resort Covid Treatment\n",
      "Fox News hosts have been smearing Covid vaccines, even as areas with relatively low inoculation rates face outbreaks.\n",
      "Virus Updates: England will end most Covid restrictions next week, Prime Minister Boris Johnson said.\n",
      "U.S. vaccinations ›\n",
      "Global hot spots ›\n",
      "Global vaccinations ›\n",
      "Other trackers:\n",
      "Choose your own places to track\n",
      "Other trackers:\n",
      "Biden Calls Cuba Protests ‘Clarion Call for Freedom’\n",
      "Haitian Officials Say U.S.-Based Suspect in Assassination Was Seeking Power\n",
      "Florida, the Land of Gleaming Condos, Frets After Collapse\n",
      "Texas Democrats Plan to Flee State to Highlight G.O.P. Voting Restrictions\n",
      "6 Months After Riot, Capitol Police Face Multiple Crises\n",
      "‘I’m Not Just a Kid Who Did Something Wrong’\n",
      "Gail Collins and Bret Stephens\n",
      "Our Favorite Presidents You’ve Never Heard Of\n",
      "Karen Petrou\n",
      "Only the Rich Could Love This Economic Recovery\n",
      "Margaret Renkl\n",
      "You Can’t Take It With You, but You Can Put It in Storage\n",
      "Roxanne Khamsi\n",
      "‘I Want to Understand What Makes Someone Survive’\n",
      "Maureen Dowd\n",
      "The Ascension of Bernie Sanders\n",
      "Charles M. Blow\n",
      "The Voter Fraud Fraud\n",
      "Brent Staples\n",
      "How the White Press Wrote Off Black America\n",
      "Adam Grant\n",
      "There’s a Specific Kind of Joy We’ve Been Missing\n",
      "Ross Douthat\n",
      "A Case for Patriotic Education\n",
      "Amy Wilentz\n",
      "Haiti Is in Peril Once Again, and There Are No Good Options\n",
      "Viet Thanh Nguyen\n",
      "What to Do When Your Parents’ Hopes Make Your Happiness Impossible\n",
      "Tracy Kennard\n",
      "Cancer Took Away My Ability to Eat, but Not My Love of Food\n",
      "Michael Pollan\n",
      "How Should We Do Drugs Now?\n",
      "Scattered Among the Himalaya, Glimpses of a Changing Tibet\n",
      "Shohei Ohtani Is Just the Star America’s Pastime Needs\n",
      "How Do You Stop Those Relentless Robocalls?\n",
      "Advertisement\n"
     ]
    }
   ],
   "source": [
    "# Task20\n",
    "from bs4 import BeautifulSoup\n",
    "import requests\n",
    "\n",
    "url = \"http://www.nytimes.com\"\n",
    "\n",
    "webpage= BeautifulSoup(requests.get(url).text, \"lxml\")\n",
    "for headlines in webpage.find_all(\"h3\"):\n",
    "    print(headlines.text.strip())"
   ]
  },
  {
   "cell_type": "code",
   "execution_count": 51,
   "id": "034d44b0",
   "metadata": {},
   "outputs": [],
   "source": [
    "\n",
    "                    \n",
    "\n",
    "\n"
   ]
  },
  {
   "cell_type": "code",
   "execution_count": null,
   "id": "5a3737d5",
   "metadata": {},
   "outputs": [],
   "source": []
  },
  {
   "cell_type": "code",
   "execution_count": null,
   "id": "2567b7c7",
   "metadata": {},
   "outputs": [],
   "source": []
  }
 ],
 "metadata": {
  "kernelspec": {
   "display_name": "Python 3",
   "language": "python",
   "name": "python3"
  },
  "language_info": {
   "codemirror_mode": {
    "name": "ipython",
    "version": 3
   },
   "file_extension": ".py",
   "mimetype": "text/x-python",
   "name": "python",
   "nbconvert_exporter": "python",
   "pygments_lexer": "ipython3",
   "version": "3.8.8"
  }
 },
 "nbformat": 4,
 "nbformat_minor": 5
}
